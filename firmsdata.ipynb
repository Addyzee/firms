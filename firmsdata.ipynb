{
 "cells": [
  {
   "cell_type": "code",
   "execution_count": 3,
   "metadata": {},
   "outputs": [],
   "source": [
    "import requests"
   ]
  },
  {
   "cell_type": "code",
   "execution_count": 4,
   "metadata": {},
   "outputs": [],
   "source": [
    "from time import sleep"
   ]
  },
  {
   "cell_type": "code",
   "execution_count": 5,
   "metadata": {},
   "outputs": [],
   "source": [
    "baseurl=\"https://firms.modaps.eosdis.nasa.gov/country/list/?source=modis&year=\"\n",
    "url=baseurl+str(2000)# contains names to all the csvs in a specific year\n",
    "i=0\n",
    "response=requests.get(url)\n",
    "javas=str(response.content)\n",
    "javas=javas.split(\"\\\\n\")\n",
    "javas[0]=javas[0].replace(\"b\\'\",\"\")\n",
    "files=[jav.split(\",\")[0] for jav in javas]"
   ]
  },
  {
   "cell_type": "code",
   "execution_count": 7,
   "metadata": {},
   "outputs": [],
   "source": [
    "csvs=['_'.join(file.split(\"_\")[2:]) for file in files[:-2]]\n",
    "countries=[csv.split('.')[0] for csv in csvs]"
   ]
  },
  {
   "cell_type": "code",
   "execution_count": 8,
   "metadata": {},
   "outputs": [
    {
     "name": "stdout",
     "output_type": "stream",
     "text": [
      "Afghanistan Albania Algeria Angola Argentina Armenia Australia Austria Azerbaijan Bahamas Bangladesh Belarus Belgium Belize Benin Bhutan Bolivia Bosnia_and_Herzegovina Botswana Brazil Bulgaria Burkina_Faso Burundi Cambodia Cameroon Canada Central_African_Republic Chad Chile China Colombia Costa_Rica Cote_d_Ivoire Croatia Cuba Curacao Cyprus Czech_Republic Dem_Rep_Korea Democratic_Republic_of_the_Congo Dominican_Republic Ecuador Egypt El_Salvador Equatorial_Guinea Eritrea Ethiopia Fiji France French_Guiana French_Polynesia Gabon Georgia Germany Ghana Greece Guatemala Guinea-Bissau Guinea Guyana Haiti Heard_I_and_McDonald_Islands Honduras Hungary India Indonesia Iran Iraq Israel Italy Jamaica Japan Jordan Kazakhstan Kenya Kosovo Kuwait Kyrgyzstan Lao_PDR Lebanon Liberia Libya Luxembourg Macedonia_Former_Yugoslav_Republic_of Madagascar Malawi Malaysia Maldives Mali Mauritania Mauritius Mexico Moldova Montenegro Montserrat Morocco Mozambique Myanmar Namibia Nepal Netherlands New_Caledonia New_Zealand Nicaragua Niger Nigeria Oman Pakistan Palestine Panama Papua_New_Guinea Paraguay Peru Philippines Poland Portugal Puerto_Rico Qatar Republic_of_Congo Republic_of_Korea Reunion Romania Russian_Federation Rwanda Samoa Saudi_Arabia Senegal Serbia Sierra_Leone Slovakia Solomon_Islands Somalia South_Africa South_Sudan Spain Sri_Lanka Sudan Suriname Swaziland Syria Taiwan Tajikistan Tanzania Thailand The_Gambia Timor-Leste Togo Trinidad_and_Tobago Turkey Turkmenistan Uganda Ukraine United_Arab_Emirates United_Kingdom United_States Uruguay Uzbekistan Vanuatu Venezuela Vietnam Yemen Zambia\n"
     ]
    }
   ],
   "source": [
    "print(*countries)"
   ]
  },
  {
   "cell_type": "code",
   "execution_count": 17,
   "metadata": {},
   "outputs": [],
   "source": [
    "def getmodis3(country,years):\n",
    "    for year in years:\n",
    "        i=0\n",
    "        getcsv=\"https://firms.modaps.eosdis.nasa.gov/data/country/modis/\"+str(year)+\"/modis_\"+str(year)+\"_\"+country+\".csv\"\n",
    "        while i < (len(csvs)):\n",
    "            try:\n",
    "                with requests.Session() as sesh:\n",
    "                    with open('modis_'+str(year)+'_'+country+\".csv\",\"wb\") as f:\n",
    "                        f.write(sesh.get(getcsv).content)\n",
    "                        print(getcsv)\n",
    "                        i+=1\n",
    "            except Exception as e:\n",
    "                print(\"Connect refuse\",e)\n",
    "                sleep(10)\n",
    "                continue\n",
    "            break"
   ]
  },
  {
   "cell_type": "code",
   "execution_count": 19,
   "metadata": {},
   "outputs": [
    {
     "name": "stdout",
     "output_type": "stream",
     "text": [
      "https://firms.modaps.eosdis.nasa.gov/data/country/modis/2015/modis_2015_The_Gambia.csv\n"
     ]
    }
   ],
   "source": [
    "getmodis3('The_Gambia',range(2015,2016))"
   ]
  },
  {
   "cell_type": "code",
   "execution_count": 14,
   "metadata": {},
   "outputs": [],
   "source": [
    "def getviirs3(country,years):\n",
    "    for year in years:\n",
    "        i=0\n",
    "        getcsv=\"https://firms.modaps.eosdis.nasa.gov/data/country/viirs-snpp/\"+str(year)+\"/viirs-snpp_\"+str(year)+\"_\"+country+\".csv\"\n",
    "        while i < (len(csvs)):\n",
    "            try:\n",
    "                with requests.Session() as sesh:\n",
    "                    with open('viirs-snpp_'+str(year)+'_'+country+\".csv\",\"wb\") as f:\n",
    "                        f.write(sesh.get(getcsv).content)\n",
    "                        print(getcsv)\n",
    "                        i+=1\n",
    "            except Exception as e:\n",
    "                print(\"Connect refuse\",e)\n",
    "                sleep(10)\n",
    "                continue\n",
    "            break"
   ]
  },
  {
   "cell_type": "code",
   "execution_count": 16,
   "metadata": {},
   "outputs": [
    {
     "name": "stdout",
     "output_type": "stream",
     "text": [
      "https://firms.modaps.eosdis.nasa.gov/data/country/viirs-snpp/2012/viirs-snpp_2012_The_Gambia.csv\n"
     ]
    }
   ],
   "source": [
    "getviirs3('The_Gambia',range(2012,2013,1))"
   ]
  }
 ],
 "metadata": {
  "kernelspec": {
   "display_name": "Python 3.10.2 64-bit",
   "language": "python",
   "name": "python3"
  },
  "language_info": {
   "codemirror_mode": {
    "name": "ipython",
    "version": 3
   },
   "file_extension": ".py",
   "mimetype": "text/x-python",
   "name": "python",
   "nbconvert_exporter": "python",
   "pygments_lexer": "ipython3",
   "version": "3.10.2"
  },
  "orig_nbformat": 4,
  "vscode": {
   "interpreter": {
    "hash": "a0329d1e859fdaae7091121e22fb799195311d986a530316c2954a05cd641814"
   }
  }
 },
 "nbformat": 4,
 "nbformat_minor": 2
}
